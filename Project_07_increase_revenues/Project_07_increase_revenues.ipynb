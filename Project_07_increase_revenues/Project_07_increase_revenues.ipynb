{
 "cells": [
  {
   "cell_type": "markdown",
   "metadata": {},
   "source": [
    "# Проверка гипотез по увеличению выручки в интернет-магазине"
   ]
  },
  {
   "cell_type": "markdown",
   "metadata": {},
   "source": [
    "## Часть 0. Загрузка данных и подготовка их к анализу"
   ]
  },
  {
   "cell_type": "code",
   "execution_count": 1,
   "metadata": {},
   "outputs": [],
   "source": [
    "from scipy import stats as st\n",
    "import pandas as pd\n",
    "import matplotlib.pyplot as plt\n",
    "import numpy as np\n",
    "from IPython.display import display"
   ]
  },
  {
   "cell_type": "code",
   "execution_count": 2,
   "metadata": {},
   "outputs": [],
   "source": [
    "pd.set_option('display.max_columns', None)\n",
    "pd.set_option('display.max_colwidth', 999)\n",
    "tables = []"
   ]
  },
  {
   "cell_type": "code",
   "execution_count": 3,
   "metadata": {},
   "outputs": [
    {
     "data": {
      "text/html": [
       "<div>\n",
       "<style scoped>\n",
       "    .dataframe tbody tr th:only-of-type {\n",
       "        vertical-align: middle;\n",
       "    }\n",
       "\n",
       "    .dataframe tbody tr th {\n",
       "        vertical-align: top;\n",
       "    }\n",
       "\n",
       "    .dataframe thead th {\n",
       "        text-align: right;\n",
       "    }\n",
       "</style>\n",
       "<table border=\"1\" class=\"dataframe\">\n",
       "  <thead>\n",
       "    <tr style=\"text-align: right;\">\n",
       "      <th></th>\n",
       "      <th>Hypothesis</th>\n",
       "      <th>Reach</th>\n",
       "      <th>Impact</th>\n",
       "      <th>Confidence</th>\n",
       "      <th>Efforts</th>\n",
       "    </tr>\n",
       "  </thead>\n",
       "  <tbody>\n",
       "    <tr>\n",
       "      <th>0</th>\n",
       "      <td>Добавить два новых канала привлечения трафика, что позволит привлекать на 30% больше пользователей</td>\n",
       "      <td>3</td>\n",
       "      <td>10</td>\n",
       "      <td>8</td>\n",
       "      <td>6</td>\n",
       "    </tr>\n",
       "    <tr>\n",
       "      <th>1</th>\n",
       "      <td>Запустить собственную службу доставки, что сократит срок доставки заказов</td>\n",
       "      <td>2</td>\n",
       "      <td>5</td>\n",
       "      <td>4</td>\n",
       "      <td>10</td>\n",
       "    </tr>\n",
       "    <tr>\n",
       "      <th>2</th>\n",
       "      <td>Добавить блоки рекомендаций товаров на сайт интернет магазина, чтобы повысить конверсию и средний чек заказа</td>\n",
       "      <td>8</td>\n",
       "      <td>3</td>\n",
       "      <td>7</td>\n",
       "      <td>3</td>\n",
       "    </tr>\n",
       "    <tr>\n",
       "      <th>3</th>\n",
       "      <td>Изменить структура категорий, что увеличит конверсию, т.к. пользователи быстрее найдут нужный товар</td>\n",
       "      <td>8</td>\n",
       "      <td>3</td>\n",
       "      <td>3</td>\n",
       "      <td>8</td>\n",
       "    </tr>\n",
       "    <tr>\n",
       "      <th>4</th>\n",
       "      <td>Изменить цвет фона главной страницы, чтобы увеличить вовлеченность пользователей</td>\n",
       "      <td>3</td>\n",
       "      <td>1</td>\n",
       "      <td>1</td>\n",
       "      <td>1</td>\n",
       "    </tr>\n",
       "  </tbody>\n",
       "</table>\n",
       "</div>"
      ],
      "text/plain": [
       "                                                                                                     Hypothesis  \\\n",
       "0            Добавить два новых канала привлечения трафика, что позволит привлекать на 30% больше пользователей   \n",
       "1                                     Запустить собственную службу доставки, что сократит срок доставки заказов   \n",
       "2  Добавить блоки рекомендаций товаров на сайт интернет магазина, чтобы повысить конверсию и средний чек заказа   \n",
       "3           Изменить структура категорий, что увеличит конверсию, т.к. пользователи быстрее найдут нужный товар   \n",
       "4                              Изменить цвет фона главной страницы, чтобы увеличить вовлеченность пользователей   \n",
       "\n",
       "   Reach  Impact  Confidence  Efforts  \n",
       "0      3      10           8        6  \n",
       "1      2       5           4       10  \n",
       "2      8       3           7        3  \n",
       "3      8       3           3        8  \n",
       "4      3       1           1        1  "
      ]
     },
     "execution_count": 3,
     "metadata": {},
     "output_type": "execute_result"
    }
   ],
   "source": [
    "hypothesis = pd.read_csv('datasets/hypothesis.csv')\n",
    "tables.append(hypothesis)\n",
    "hypothesis.name = 'hypothesis'\n",
    "hypothesis.head()"
   ]
  },
  {
   "cell_type": "code",
   "execution_count": 4,
   "metadata": {},
   "outputs": [
    {
     "data": {
      "text/html": [
       "<div>\n",
       "<style scoped>\n",
       "    .dataframe tbody tr th:only-of-type {\n",
       "        vertical-align: middle;\n",
       "    }\n",
       "\n",
       "    .dataframe tbody tr th {\n",
       "        vertical-align: top;\n",
       "    }\n",
       "\n",
       "    .dataframe thead th {\n",
       "        text-align: right;\n",
       "    }\n",
       "</style>\n",
       "<table border=\"1\" class=\"dataframe\">\n",
       "  <thead>\n",
       "    <tr style=\"text-align: right;\">\n",
       "      <th></th>\n",
       "      <th>transactionId</th>\n",
       "      <th>visitorId</th>\n",
       "      <th>date</th>\n",
       "      <th>revenue</th>\n",
       "      <th>group</th>\n",
       "    </tr>\n",
       "  </thead>\n",
       "  <tbody>\n",
       "    <tr>\n",
       "      <th>0</th>\n",
       "      <td>3667963787</td>\n",
       "      <td>3312258926</td>\n",
       "      <td>2019-08-15</td>\n",
       "      <td>1650</td>\n",
       "      <td>B</td>\n",
       "    </tr>\n",
       "    <tr>\n",
       "      <th>1</th>\n",
       "      <td>2804400009</td>\n",
       "      <td>3642806036</td>\n",
       "      <td>2019-08-15</td>\n",
       "      <td>730</td>\n",
       "      <td>B</td>\n",
       "    </tr>\n",
       "    <tr>\n",
       "      <th>2</th>\n",
       "      <td>2961555356</td>\n",
       "      <td>4069496402</td>\n",
       "      <td>2019-08-15</td>\n",
       "      <td>400</td>\n",
       "      <td>A</td>\n",
       "    </tr>\n",
       "    <tr>\n",
       "      <th>3</th>\n",
       "      <td>3797467345</td>\n",
       "      <td>1196621759</td>\n",
       "      <td>2019-08-15</td>\n",
       "      <td>9759</td>\n",
       "      <td>B</td>\n",
       "    </tr>\n",
       "    <tr>\n",
       "      <th>4</th>\n",
       "      <td>2282983706</td>\n",
       "      <td>2322279887</td>\n",
       "      <td>2019-08-15</td>\n",
       "      <td>2308</td>\n",
       "      <td>B</td>\n",
       "    </tr>\n",
       "  </tbody>\n",
       "</table>\n",
       "</div>"
      ],
      "text/plain": [
       "   transactionId   visitorId        date  revenue group\n",
       "0     3667963787  3312258926  2019-08-15     1650     B\n",
       "1     2804400009  3642806036  2019-08-15      730     B\n",
       "2     2961555356  4069496402  2019-08-15      400     A\n",
       "3     3797467345  1196621759  2019-08-15     9759     B\n",
       "4     2282983706  2322279887  2019-08-15     2308     B"
      ]
     },
     "execution_count": 4,
     "metadata": {},
     "output_type": "execute_result"
    }
   ],
   "source": [
    "orders = pd.read_csv('datasets/orders.csv')\n",
    "tables.append(orders)\n",
    "orders.name = 'orders'\n",
    "orders.head()"
   ]
  },
  {
   "cell_type": "code",
   "execution_count": 5,
   "metadata": {},
   "outputs": [
    {
     "data": {
      "text/html": [
       "<div>\n",
       "<style scoped>\n",
       "    .dataframe tbody tr th:only-of-type {\n",
       "        vertical-align: middle;\n",
       "    }\n",
       "\n",
       "    .dataframe tbody tr th {\n",
       "        vertical-align: top;\n",
       "    }\n",
       "\n",
       "    .dataframe thead th {\n",
       "        text-align: right;\n",
       "    }\n",
       "</style>\n",
       "<table border=\"1\" class=\"dataframe\">\n",
       "  <thead>\n",
       "    <tr style=\"text-align: right;\">\n",
       "      <th></th>\n",
       "      <th>date</th>\n",
       "      <th>group</th>\n",
       "      <th>visitors</th>\n",
       "    </tr>\n",
       "  </thead>\n",
       "  <tbody>\n",
       "    <tr>\n",
       "      <th>0</th>\n",
       "      <td>2019-08-01</td>\n",
       "      <td>A</td>\n",
       "      <td>719</td>\n",
       "    </tr>\n",
       "    <tr>\n",
       "      <th>1</th>\n",
       "      <td>2019-08-02</td>\n",
       "      <td>A</td>\n",
       "      <td>619</td>\n",
       "    </tr>\n",
       "    <tr>\n",
       "      <th>2</th>\n",
       "      <td>2019-08-03</td>\n",
       "      <td>A</td>\n",
       "      <td>507</td>\n",
       "    </tr>\n",
       "    <tr>\n",
       "      <th>3</th>\n",
       "      <td>2019-08-04</td>\n",
       "      <td>A</td>\n",
       "      <td>717</td>\n",
       "    </tr>\n",
       "    <tr>\n",
       "      <th>4</th>\n",
       "      <td>2019-08-05</td>\n",
       "      <td>A</td>\n",
       "      <td>756</td>\n",
       "    </tr>\n",
       "  </tbody>\n",
       "</table>\n",
       "</div>"
      ],
      "text/plain": [
       "         date group  visitors\n",
       "0  2019-08-01     A       719\n",
       "1  2019-08-02     A       619\n",
       "2  2019-08-03     A       507\n",
       "3  2019-08-04     A       717\n",
       "4  2019-08-05     A       756"
      ]
     },
     "execution_count": 5,
     "metadata": {},
     "output_type": "execute_result"
    }
   ],
   "source": [
    "visitors = pd.read_csv('datasets/visitors.csv')\n",
    "tables.append(visitors)\n",
    "visitors.name = 'visitors'\n",
    "visitors.head()"
   ]
  },
  {
   "cell_type": "code",
   "execution_count": 6,
   "metadata": {},
   "outputs": [],
   "source": [
    "# функция вывода информации о таблицах\n",
    "def tables_information():\n",
    "    for table in tables:\n",
    "        print(f'Информация о таблице {table.name}:')\n",
    "        display(table.columns)\n",
    "        display(table.info())\n",
    "        display(table.describe())\n",
    "        print(f'Количество дублей {table.duplicated().sum()}\\n')"
   ]
  },
  {
   "cell_type": "code",
   "execution_count": 7,
   "metadata": {
    "scrolled": true
   },
   "outputs": [
    {
     "name": "stdout",
     "output_type": "stream",
     "text": [
      "Информация о таблице hypothesis:\n"
     ]
    },
    {
     "data": {
      "text/plain": [
       "Index(['Hypothesis', 'Reach', 'Impact', 'Confidence', 'Efforts'], dtype='object')"
      ]
     },
     "metadata": {},
     "output_type": "display_data"
    },
    {
     "name": "stdout",
     "output_type": "stream",
     "text": [
      "<class 'pandas.core.frame.DataFrame'>\n",
      "RangeIndex: 9 entries, 0 to 8\n",
      "Data columns (total 5 columns):\n",
      " #   Column      Non-Null Count  Dtype \n",
      "---  ------      --------------  ----- \n",
      " 0   Hypothesis  9 non-null      object\n",
      " 1   Reach       9 non-null      int64 \n",
      " 2   Impact      9 non-null      int64 \n",
      " 3   Confidence  9 non-null      int64 \n",
      " 4   Efforts     9 non-null      int64 \n",
      "dtypes: int64(4), object(1)\n",
      "memory usage: 488.0+ bytes\n"
     ]
    },
    {
     "data": {
      "text/plain": [
       "None"
      ]
     },
     "metadata": {},
     "output_type": "display_data"
    },
    {
     "data": {
      "text/html": [
       "<div>\n",
       "<style scoped>\n",
       "    .dataframe tbody tr th:only-of-type {\n",
       "        vertical-align: middle;\n",
       "    }\n",
       "\n",
       "    .dataframe tbody tr th {\n",
       "        vertical-align: top;\n",
       "    }\n",
       "\n",
       "    .dataframe thead th {\n",
       "        text-align: right;\n",
       "    }\n",
       "</style>\n",
       "<table border=\"1\" class=\"dataframe\">\n",
       "  <thead>\n",
       "    <tr style=\"text-align: right;\">\n",
       "      <th></th>\n",
       "      <th>Reach</th>\n",
       "      <th>Impact</th>\n",
       "      <th>Confidence</th>\n",
       "      <th>Efforts</th>\n",
       "    </tr>\n",
       "  </thead>\n",
       "  <tbody>\n",
       "    <tr>\n",
       "      <th>count</th>\n",
       "      <td>9.000000</td>\n",
       "      <td>9.000000</td>\n",
       "      <td>9.000000</td>\n",
       "      <td>9.000000</td>\n",
       "    </tr>\n",
       "    <tr>\n",
       "      <th>mean</th>\n",
       "      <td>4.777778</td>\n",
       "      <td>4.777778</td>\n",
       "      <td>5.555556</td>\n",
       "      <td>4.888889</td>\n",
       "    </tr>\n",
       "    <tr>\n",
       "      <th>std</th>\n",
       "      <td>3.153481</td>\n",
       "      <td>3.192874</td>\n",
       "      <td>3.045944</td>\n",
       "      <td>2.803767</td>\n",
       "    </tr>\n",
       "    <tr>\n",
       "      <th>min</th>\n",
       "      <td>1.000000</td>\n",
       "      <td>1.000000</td>\n",
       "      <td>1.000000</td>\n",
       "      <td>1.000000</td>\n",
       "    </tr>\n",
       "    <tr>\n",
       "      <th>25%</th>\n",
       "      <td>3.000000</td>\n",
       "      <td>3.000000</td>\n",
       "      <td>3.000000</td>\n",
       "      <td>3.000000</td>\n",
       "    </tr>\n",
       "    <tr>\n",
       "      <th>50%</th>\n",
       "      <td>3.000000</td>\n",
       "      <td>3.000000</td>\n",
       "      <td>7.000000</td>\n",
       "      <td>5.000000</td>\n",
       "    </tr>\n",
       "    <tr>\n",
       "      <th>75%</th>\n",
       "      <td>8.000000</td>\n",
       "      <td>7.000000</td>\n",
       "      <td>8.000000</td>\n",
       "      <td>6.000000</td>\n",
       "    </tr>\n",
       "    <tr>\n",
       "      <th>max</th>\n",
       "      <td>10.000000</td>\n",
       "      <td>10.000000</td>\n",
       "      <td>9.000000</td>\n",
       "      <td>10.000000</td>\n",
       "    </tr>\n",
       "  </tbody>\n",
       "</table>\n",
       "</div>"
      ],
      "text/plain": [
       "           Reach     Impact  Confidence    Efforts\n",
       "count   9.000000   9.000000    9.000000   9.000000\n",
       "mean    4.777778   4.777778    5.555556   4.888889\n",
       "std     3.153481   3.192874    3.045944   2.803767\n",
       "min     1.000000   1.000000    1.000000   1.000000\n",
       "25%     3.000000   3.000000    3.000000   3.000000\n",
       "50%     3.000000   3.000000    7.000000   5.000000\n",
       "75%     8.000000   7.000000    8.000000   6.000000\n",
       "max    10.000000  10.000000    9.000000  10.000000"
      ]
     },
     "metadata": {},
     "output_type": "display_data"
    },
    {
     "name": "stdout",
     "output_type": "stream",
     "text": [
      "Количество дублей 0\n",
      "\n",
      "Информация о таблице orders:\n"
     ]
    },
    {
     "data": {
      "text/plain": [
       "Index(['transactionId', 'visitorId', 'date', 'revenue', 'group'], dtype='object')"
      ]
     },
     "metadata": {},
     "output_type": "display_data"
    },
    {
     "name": "stdout",
     "output_type": "stream",
     "text": [
      "<class 'pandas.core.frame.DataFrame'>\n",
      "RangeIndex: 1197 entries, 0 to 1196\n",
      "Data columns (total 5 columns):\n",
      " #   Column         Non-Null Count  Dtype \n",
      "---  ------         --------------  ----- \n",
      " 0   transactionId  1197 non-null   int64 \n",
      " 1   visitorId      1197 non-null   int64 \n",
      " 2   date           1197 non-null   object\n",
      " 3   revenue        1197 non-null   int64 \n",
      " 4   group          1197 non-null   object\n",
      "dtypes: int64(3), object(2)\n",
      "memory usage: 46.9+ KB\n"
     ]
    },
    {
     "data": {
      "text/plain": [
       "None"
      ]
     },
     "metadata": {},
     "output_type": "display_data"
    },
    {
     "data": {
      "text/html": [
       "<div>\n",
       "<style scoped>\n",
       "    .dataframe tbody tr th:only-of-type {\n",
       "        vertical-align: middle;\n",
       "    }\n",
       "\n",
       "    .dataframe tbody tr th {\n",
       "        vertical-align: top;\n",
       "    }\n",
       "\n",
       "    .dataframe thead th {\n",
       "        text-align: right;\n",
       "    }\n",
       "</style>\n",
       "<table border=\"1\" class=\"dataframe\">\n",
       "  <thead>\n",
       "    <tr style=\"text-align: right;\">\n",
       "      <th></th>\n",
       "      <th>transactionId</th>\n",
       "      <th>visitorId</th>\n",
       "      <th>revenue</th>\n",
       "    </tr>\n",
       "  </thead>\n",
       "  <tbody>\n",
       "    <tr>\n",
       "      <th>count</th>\n",
       "      <td>1.197000e+03</td>\n",
       "      <td>1.197000e+03</td>\n",
       "      <td>1.197000e+03</td>\n",
       "    </tr>\n",
       "    <tr>\n",
       "      <th>mean</th>\n",
       "      <td>2.155621e+09</td>\n",
       "      <td>2.165960e+09</td>\n",
       "      <td>8.348006e+03</td>\n",
       "    </tr>\n",
       "    <tr>\n",
       "      <th>std</th>\n",
       "      <td>1.229085e+09</td>\n",
       "      <td>1.236014e+09</td>\n",
       "      <td>3.919113e+04</td>\n",
       "    </tr>\n",
       "    <tr>\n",
       "      <th>min</th>\n",
       "      <td>1.062393e+06</td>\n",
       "      <td>5.114589e+06</td>\n",
       "      <td>5.000000e+01</td>\n",
       "    </tr>\n",
       "    <tr>\n",
       "      <th>25%</th>\n",
       "      <td>1.166776e+09</td>\n",
       "      <td>1.111826e+09</td>\n",
       "      <td>1.220000e+03</td>\n",
       "    </tr>\n",
       "    <tr>\n",
       "      <th>50%</th>\n",
       "      <td>2.145194e+09</td>\n",
       "      <td>2.217985e+09</td>\n",
       "      <td>2.978000e+03</td>\n",
       "    </tr>\n",
       "    <tr>\n",
       "      <th>75%</th>\n",
       "      <td>3.237740e+09</td>\n",
       "      <td>3.177606e+09</td>\n",
       "      <td>8.290000e+03</td>\n",
       "    </tr>\n",
       "    <tr>\n",
       "      <th>max</th>\n",
       "      <td>4.293856e+09</td>\n",
       "      <td>4.283872e+09</td>\n",
       "      <td>1.294500e+06</td>\n",
       "    </tr>\n",
       "  </tbody>\n",
       "</table>\n",
       "</div>"
      ],
      "text/plain": [
       "       transactionId     visitorId       revenue\n",
       "count   1.197000e+03  1.197000e+03  1.197000e+03\n",
       "mean    2.155621e+09  2.165960e+09  8.348006e+03\n",
       "std     1.229085e+09  1.236014e+09  3.919113e+04\n",
       "min     1.062393e+06  5.114589e+06  5.000000e+01\n",
       "25%     1.166776e+09  1.111826e+09  1.220000e+03\n",
       "50%     2.145194e+09  2.217985e+09  2.978000e+03\n",
       "75%     3.237740e+09  3.177606e+09  8.290000e+03\n",
       "max     4.293856e+09  4.283872e+09  1.294500e+06"
      ]
     },
     "metadata": {},
     "output_type": "display_data"
    },
    {
     "name": "stdout",
     "output_type": "stream",
     "text": [
      "Количество дублей 0\n",
      "\n",
      "Информация о таблице visitors:\n"
     ]
    },
    {
     "data": {
      "text/plain": [
       "Index(['date', 'group', 'visitors'], dtype='object')"
      ]
     },
     "metadata": {},
     "output_type": "display_data"
    },
    {
     "name": "stdout",
     "output_type": "stream",
     "text": [
      "<class 'pandas.core.frame.DataFrame'>\n",
      "RangeIndex: 62 entries, 0 to 61\n",
      "Data columns (total 3 columns):\n",
      " #   Column    Non-Null Count  Dtype \n",
      "---  ------    --------------  ----- \n",
      " 0   date      62 non-null     object\n",
      " 1   group     62 non-null     object\n",
      " 2   visitors  62 non-null     int64 \n",
      "dtypes: int64(1), object(2)\n",
      "memory usage: 1.6+ KB\n"
     ]
    },
    {
     "data": {
      "text/plain": [
       "None"
      ]
     },
     "metadata": {},
     "output_type": "display_data"
    },
    {
     "data": {
      "text/html": [
       "<div>\n",
       "<style scoped>\n",
       "    .dataframe tbody tr th:only-of-type {\n",
       "        vertical-align: middle;\n",
       "    }\n",
       "\n",
       "    .dataframe tbody tr th {\n",
       "        vertical-align: top;\n",
       "    }\n",
       "\n",
       "    .dataframe thead th {\n",
       "        text-align: right;\n",
       "    }\n",
       "</style>\n",
       "<table border=\"1\" class=\"dataframe\">\n",
       "  <thead>\n",
       "    <tr style=\"text-align: right;\">\n",
       "      <th></th>\n",
       "      <th>visitors</th>\n",
       "    </tr>\n",
       "  </thead>\n",
       "  <tbody>\n",
       "    <tr>\n",
       "      <th>count</th>\n",
       "      <td>62.000000</td>\n",
       "    </tr>\n",
       "    <tr>\n",
       "      <th>mean</th>\n",
       "      <td>607.290323</td>\n",
       "    </tr>\n",
       "    <tr>\n",
       "      <th>std</th>\n",
       "      <td>114.400560</td>\n",
       "    </tr>\n",
       "    <tr>\n",
       "      <th>min</th>\n",
       "      <td>361.000000</td>\n",
       "    </tr>\n",
       "    <tr>\n",
       "      <th>25%</th>\n",
       "      <td>534.000000</td>\n",
       "    </tr>\n",
       "    <tr>\n",
       "      <th>50%</th>\n",
       "      <td>624.500000</td>\n",
       "    </tr>\n",
       "    <tr>\n",
       "      <th>75%</th>\n",
       "      <td>710.500000</td>\n",
       "    </tr>\n",
       "    <tr>\n",
       "      <th>max</th>\n",
       "      <td>770.000000</td>\n",
       "    </tr>\n",
       "  </tbody>\n",
       "</table>\n",
       "</div>"
      ],
      "text/plain": [
       "         visitors\n",
       "count   62.000000\n",
       "mean   607.290323\n",
       "std    114.400560\n",
       "min    361.000000\n",
       "25%    534.000000\n",
       "50%    624.500000\n",
       "75%    710.500000\n",
       "max    770.000000"
      ]
     },
     "metadata": {},
     "output_type": "display_data"
    },
    {
     "name": "stdout",
     "output_type": "stream",
     "text": [
      "Количество дублей 0\n",
      "\n"
     ]
    }
   ],
   "source": [
    "tables_information()"
   ]
  },
  {
   "cell_type": "code",
   "execution_count": 8,
   "metadata": {},
   "outputs": [],
   "source": [
    "# перевод имен колонок к нижнему регистру и замена пробелов\n",
    "for table in tables:\n",
    "    for column in table.columns:\n",
    "        table.rename(columns={column: str.lower(column).replace(' ', '_')}, inplace=True)    "
   ]
  },
  {
   "cell_type": "code",
   "execution_count": 9,
   "metadata": {},
   "outputs": [],
   "source": [
    "orders.rename(columns={'transactionid': 'transaction_id', 'visitorid': 'visitor_id'}, inplace=True)"
   ]
  },
  {
   "cell_type": "code",
   "execution_count": 10,
   "metadata": {},
   "outputs": [],
   "source": [
    "# преобразование типов колонок с датами к datetime\n",
    "orders['date'] = orders['date'].astype('datetime64')\n",
    "visitors['date'] = visitors['date'].astype('datetime64')"
   ]
  },
  {
   "cell_type": "code",
   "execution_count": 11,
   "metadata": {
    "scrolled": true
   },
   "outputs": [
    {
     "name": "stdout",
     "output_type": "stream",
     "text": [
      "Информация о таблице hypothesis:\n"
     ]
    },
    {
     "data": {
      "text/plain": [
       "Index(['hypothesis', 'reach', 'impact', 'confidence', 'efforts'], dtype='object')"
      ]
     },
     "metadata": {},
     "output_type": "display_data"
    },
    {
     "name": "stdout",
     "output_type": "stream",
     "text": [
      "<class 'pandas.core.frame.DataFrame'>\n",
      "RangeIndex: 9 entries, 0 to 8\n",
      "Data columns (total 5 columns):\n",
      " #   Column      Non-Null Count  Dtype \n",
      "---  ------      --------------  ----- \n",
      " 0   hypothesis  9 non-null      object\n",
      " 1   reach       9 non-null      int64 \n",
      " 2   impact      9 non-null      int64 \n",
      " 3   confidence  9 non-null      int64 \n",
      " 4   efforts     9 non-null      int64 \n",
      "dtypes: int64(4), object(1)\n",
      "memory usage: 488.0+ bytes\n"
     ]
    },
    {
     "data": {
      "text/plain": [
       "None"
      ]
     },
     "metadata": {},
     "output_type": "display_data"
    },
    {
     "data": {
      "text/html": [
       "<div>\n",
       "<style scoped>\n",
       "    .dataframe tbody tr th:only-of-type {\n",
       "        vertical-align: middle;\n",
       "    }\n",
       "\n",
       "    .dataframe tbody tr th {\n",
       "        vertical-align: top;\n",
       "    }\n",
       "\n",
       "    .dataframe thead th {\n",
       "        text-align: right;\n",
       "    }\n",
       "</style>\n",
       "<table border=\"1\" class=\"dataframe\">\n",
       "  <thead>\n",
       "    <tr style=\"text-align: right;\">\n",
       "      <th></th>\n",
       "      <th>reach</th>\n",
       "      <th>impact</th>\n",
       "      <th>confidence</th>\n",
       "      <th>efforts</th>\n",
       "    </tr>\n",
       "  </thead>\n",
       "  <tbody>\n",
       "    <tr>\n",
       "      <th>count</th>\n",
       "      <td>9.000000</td>\n",
       "      <td>9.000000</td>\n",
       "      <td>9.000000</td>\n",
       "      <td>9.000000</td>\n",
       "    </tr>\n",
       "    <tr>\n",
       "      <th>mean</th>\n",
       "      <td>4.777778</td>\n",
       "      <td>4.777778</td>\n",
       "      <td>5.555556</td>\n",
       "      <td>4.888889</td>\n",
       "    </tr>\n",
       "    <tr>\n",
       "      <th>std</th>\n",
       "      <td>3.153481</td>\n",
       "      <td>3.192874</td>\n",
       "      <td>3.045944</td>\n",
       "      <td>2.803767</td>\n",
       "    </tr>\n",
       "    <tr>\n",
       "      <th>min</th>\n",
       "      <td>1.000000</td>\n",
       "      <td>1.000000</td>\n",
       "      <td>1.000000</td>\n",
       "      <td>1.000000</td>\n",
       "    </tr>\n",
       "    <tr>\n",
       "      <th>25%</th>\n",
       "      <td>3.000000</td>\n",
       "      <td>3.000000</td>\n",
       "      <td>3.000000</td>\n",
       "      <td>3.000000</td>\n",
       "    </tr>\n",
       "    <tr>\n",
       "      <th>50%</th>\n",
       "      <td>3.000000</td>\n",
       "      <td>3.000000</td>\n",
       "      <td>7.000000</td>\n",
       "      <td>5.000000</td>\n",
       "    </tr>\n",
       "    <tr>\n",
       "      <th>75%</th>\n",
       "      <td>8.000000</td>\n",
       "      <td>7.000000</td>\n",
       "      <td>8.000000</td>\n",
       "      <td>6.000000</td>\n",
       "    </tr>\n",
       "    <tr>\n",
       "      <th>max</th>\n",
       "      <td>10.000000</td>\n",
       "      <td>10.000000</td>\n",
       "      <td>9.000000</td>\n",
       "      <td>10.000000</td>\n",
       "    </tr>\n",
       "  </tbody>\n",
       "</table>\n",
       "</div>"
      ],
      "text/plain": [
       "           reach     impact  confidence    efforts\n",
       "count   9.000000   9.000000    9.000000   9.000000\n",
       "mean    4.777778   4.777778    5.555556   4.888889\n",
       "std     3.153481   3.192874    3.045944   2.803767\n",
       "min     1.000000   1.000000    1.000000   1.000000\n",
       "25%     3.000000   3.000000    3.000000   3.000000\n",
       "50%     3.000000   3.000000    7.000000   5.000000\n",
       "75%     8.000000   7.000000    8.000000   6.000000\n",
       "max    10.000000  10.000000    9.000000  10.000000"
      ]
     },
     "metadata": {},
     "output_type": "display_data"
    },
    {
     "name": "stdout",
     "output_type": "stream",
     "text": [
      "Количество дублей 0\n",
      "\n",
      "Информация о таблице orders:\n"
     ]
    },
    {
     "data": {
      "text/plain": [
       "Index(['transaction_id', 'visitor_id', 'date', 'revenue', 'group'], dtype='object')"
      ]
     },
     "metadata": {},
     "output_type": "display_data"
    },
    {
     "name": "stdout",
     "output_type": "stream",
     "text": [
      "<class 'pandas.core.frame.DataFrame'>\n",
      "RangeIndex: 1197 entries, 0 to 1196\n",
      "Data columns (total 5 columns):\n",
      " #   Column          Non-Null Count  Dtype         \n",
      "---  ------          --------------  -----         \n",
      " 0   transaction_id  1197 non-null   int64         \n",
      " 1   visitor_id      1197 non-null   int64         \n",
      " 2   date            1197 non-null   datetime64[ns]\n",
      " 3   revenue         1197 non-null   int64         \n",
      " 4   group           1197 non-null   object        \n",
      "dtypes: datetime64[ns](1), int64(3), object(1)\n",
      "memory usage: 46.9+ KB\n"
     ]
    },
    {
     "data": {
      "text/plain": [
       "None"
      ]
     },
     "metadata": {},
     "output_type": "display_data"
    },
    {
     "data": {
      "text/html": [
       "<div>\n",
       "<style scoped>\n",
       "    .dataframe tbody tr th:only-of-type {\n",
       "        vertical-align: middle;\n",
       "    }\n",
       "\n",
       "    .dataframe tbody tr th {\n",
       "        vertical-align: top;\n",
       "    }\n",
       "\n",
       "    .dataframe thead th {\n",
       "        text-align: right;\n",
       "    }\n",
       "</style>\n",
       "<table border=\"1\" class=\"dataframe\">\n",
       "  <thead>\n",
       "    <tr style=\"text-align: right;\">\n",
       "      <th></th>\n",
       "      <th>transaction_id</th>\n",
       "      <th>visitor_id</th>\n",
       "      <th>revenue</th>\n",
       "    </tr>\n",
       "  </thead>\n",
       "  <tbody>\n",
       "    <tr>\n",
       "      <th>count</th>\n",
       "      <td>1.197000e+03</td>\n",
       "      <td>1.197000e+03</td>\n",
       "      <td>1.197000e+03</td>\n",
       "    </tr>\n",
       "    <tr>\n",
       "      <th>mean</th>\n",
       "      <td>2.155621e+09</td>\n",
       "      <td>2.165960e+09</td>\n",
       "      <td>8.348006e+03</td>\n",
       "    </tr>\n",
       "    <tr>\n",
       "      <th>std</th>\n",
       "      <td>1.229085e+09</td>\n",
       "      <td>1.236014e+09</td>\n",
       "      <td>3.919113e+04</td>\n",
       "    </tr>\n",
       "    <tr>\n",
       "      <th>min</th>\n",
       "      <td>1.062393e+06</td>\n",
       "      <td>5.114589e+06</td>\n",
       "      <td>5.000000e+01</td>\n",
       "    </tr>\n",
       "    <tr>\n",
       "      <th>25%</th>\n",
       "      <td>1.166776e+09</td>\n",
       "      <td>1.111826e+09</td>\n",
       "      <td>1.220000e+03</td>\n",
       "    </tr>\n",
       "    <tr>\n",
       "      <th>50%</th>\n",
       "      <td>2.145194e+09</td>\n",
       "      <td>2.217985e+09</td>\n",
       "      <td>2.978000e+03</td>\n",
       "    </tr>\n",
       "    <tr>\n",
       "      <th>75%</th>\n",
       "      <td>3.237740e+09</td>\n",
       "      <td>3.177606e+09</td>\n",
       "      <td>8.290000e+03</td>\n",
       "    </tr>\n",
       "    <tr>\n",
       "      <th>max</th>\n",
       "      <td>4.293856e+09</td>\n",
       "      <td>4.283872e+09</td>\n",
       "      <td>1.294500e+06</td>\n",
       "    </tr>\n",
       "  </tbody>\n",
       "</table>\n",
       "</div>"
      ],
      "text/plain": [
       "       transaction_id    visitor_id       revenue\n",
       "count    1.197000e+03  1.197000e+03  1.197000e+03\n",
       "mean     2.155621e+09  2.165960e+09  8.348006e+03\n",
       "std      1.229085e+09  1.236014e+09  3.919113e+04\n",
       "min      1.062393e+06  5.114589e+06  5.000000e+01\n",
       "25%      1.166776e+09  1.111826e+09  1.220000e+03\n",
       "50%      2.145194e+09  2.217985e+09  2.978000e+03\n",
       "75%      3.237740e+09  3.177606e+09  8.290000e+03\n",
       "max      4.293856e+09  4.283872e+09  1.294500e+06"
      ]
     },
     "metadata": {},
     "output_type": "display_data"
    },
    {
     "name": "stdout",
     "output_type": "stream",
     "text": [
      "Количество дублей 0\n",
      "\n",
      "Информация о таблице visitors:\n"
     ]
    },
    {
     "data": {
      "text/plain": [
       "Index(['date', 'group', 'visitors'], dtype='object')"
      ]
     },
     "metadata": {},
     "output_type": "display_data"
    },
    {
     "name": "stdout",
     "output_type": "stream",
     "text": [
      "<class 'pandas.core.frame.DataFrame'>\n",
      "RangeIndex: 62 entries, 0 to 61\n",
      "Data columns (total 3 columns):\n",
      " #   Column    Non-Null Count  Dtype         \n",
      "---  ------    --------------  -----         \n",
      " 0   date      62 non-null     datetime64[ns]\n",
      " 1   group     62 non-null     object        \n",
      " 2   visitors  62 non-null     int64         \n",
      "dtypes: datetime64[ns](1), int64(1), object(1)\n",
      "memory usage: 1.6+ KB\n"
     ]
    },
    {
     "data": {
      "text/plain": [
       "None"
      ]
     },
     "metadata": {},
     "output_type": "display_data"
    },
    {
     "data": {
      "text/html": [
       "<div>\n",
       "<style scoped>\n",
       "    .dataframe tbody tr th:only-of-type {\n",
       "        vertical-align: middle;\n",
       "    }\n",
       "\n",
       "    .dataframe tbody tr th {\n",
       "        vertical-align: top;\n",
       "    }\n",
       "\n",
       "    .dataframe thead th {\n",
       "        text-align: right;\n",
       "    }\n",
       "</style>\n",
       "<table border=\"1\" class=\"dataframe\">\n",
       "  <thead>\n",
       "    <tr style=\"text-align: right;\">\n",
       "      <th></th>\n",
       "      <th>visitors</th>\n",
       "    </tr>\n",
       "  </thead>\n",
       "  <tbody>\n",
       "    <tr>\n",
       "      <th>count</th>\n",
       "      <td>62.000000</td>\n",
       "    </tr>\n",
       "    <tr>\n",
       "      <th>mean</th>\n",
       "      <td>607.290323</td>\n",
       "    </tr>\n",
       "    <tr>\n",
       "      <th>std</th>\n",
       "      <td>114.400560</td>\n",
       "    </tr>\n",
       "    <tr>\n",
       "      <th>min</th>\n",
       "      <td>361.000000</td>\n",
       "    </tr>\n",
       "    <tr>\n",
       "      <th>25%</th>\n",
       "      <td>534.000000</td>\n",
       "    </tr>\n",
       "    <tr>\n",
       "      <th>50%</th>\n",
       "      <td>624.500000</td>\n",
       "    </tr>\n",
       "    <tr>\n",
       "      <th>75%</th>\n",
       "      <td>710.500000</td>\n",
       "    </tr>\n",
       "    <tr>\n",
       "      <th>max</th>\n",
       "      <td>770.000000</td>\n",
       "    </tr>\n",
       "  </tbody>\n",
       "</table>\n",
       "</div>"
      ],
      "text/plain": [
       "         visitors\n",
       "count   62.000000\n",
       "mean   607.290323\n",
       "std    114.400560\n",
       "min    361.000000\n",
       "25%    534.000000\n",
       "50%    624.500000\n",
       "75%    710.500000\n",
       "max    770.000000"
      ]
     },
     "metadata": {},
     "output_type": "display_data"
    },
    {
     "name": "stdout",
     "output_type": "stream",
     "text": [
      "Количество дублей 0\n",
      "\n"
     ]
    }
   ],
   "source": [
    "tables_information()"
   ]
  },
  {
   "cell_type": "markdown",
   "metadata": {},
   "source": [
    "### Часть 0. Загрузка данных и подготовка их к анализу. Вывод"
   ]
  },
  {
   "cell_type": "markdown",
   "metadata": {},
   "source": [
    "Представленные таблицы не содержат дубли и пропуски. В таблице hypothesis названия колонок преобразованы к нижнему регистру. Во таблицах visitors и orders типы колонок с датами преобразованы к datetime. В таблице orders названия двух колонок изменены для лучшей читабельности."
   ]
  },
  {
   "cell_type": "markdown",
   "metadata": {},
   "source": [
    "## Часть 1. Приоритизация гипотез"
   ]
  },
  {
   "cell_type": "markdown",
   "metadata": {},
   "source": [
    "### Фреймворк ICE для приоритизации гипотез, сортировка гипотез по убыванию приоритета"
   ]
  },
  {
   "cell_type": "code",
   "execution_count": 12,
   "metadata": {},
   "outputs": [],
   "source": [
    "# переименование индекса в понятное название\n",
    "hypothesis.index.rename('number', inplace=True)"
   ]
  },
  {
   "cell_type": "code",
   "execution_count": 13,
   "metadata": {},
   "outputs": [
    {
     "data": {
      "text/html": [
       "<div>\n",
       "<style scoped>\n",
       "    .dataframe tbody tr th:only-of-type {\n",
       "        vertical-align: middle;\n",
       "    }\n",
       "\n",
       "    .dataframe tbody tr th {\n",
       "        vertical-align: top;\n",
       "    }\n",
       "\n",
       "    .dataframe thead th {\n",
       "        text-align: right;\n",
       "    }\n",
       "</style>\n",
       "<table border=\"1\" class=\"dataframe\">\n",
       "  <thead>\n",
       "    <tr style=\"text-align: right;\">\n",
       "      <th></th>\n",
       "      <th>hypothesis</th>\n",
       "      <th>ICE</th>\n",
       "    </tr>\n",
       "    <tr>\n",
       "      <th>number</th>\n",
       "      <th></th>\n",
       "      <th></th>\n",
       "    </tr>\n",
       "  </thead>\n",
       "  <tbody>\n",
       "    <tr>\n",
       "      <th>8</th>\n",
       "      <td>Запустить акцию, дающую скидку на товар в день рождения</td>\n",
       "      <td>16.200000</td>\n",
       "    </tr>\n",
       "    <tr>\n",
       "      <th>0</th>\n",
       "      <td>Добавить два новых канала привлечения трафика, что позволит привлекать на 30% больше пользователей</td>\n",
       "      <td>13.333333</td>\n",
       "    </tr>\n",
       "    <tr>\n",
       "      <th>7</th>\n",
       "      <td>Добавить форму подписки на все основные страницы, чтобы собрать базу клиентов для email-рассылок</td>\n",
       "      <td>11.200000</td>\n",
       "    </tr>\n",
       "    <tr>\n",
       "      <th>6</th>\n",
       "      <td>Показать на главной странице баннеры с актуальными акциями и распродажами, чтобы увеличить конверсию</td>\n",
       "      <td>8.000000</td>\n",
       "    </tr>\n",
       "    <tr>\n",
       "      <th>2</th>\n",
       "      <td>Добавить блоки рекомендаций товаров на сайт интернет магазина, чтобы повысить конверсию и средний чек заказа</td>\n",
       "      <td>7.000000</td>\n",
       "    </tr>\n",
       "  </tbody>\n",
       "</table>\n",
       "</div>"
      ],
      "text/plain": [
       "                                                                                                          hypothesis  \\\n",
       "number                                                                                                                 \n",
       "8                                                            Запустить акцию, дающую скидку на товар в день рождения   \n",
       "0                 Добавить два новых канала привлечения трафика, что позволит привлекать на 30% больше пользователей   \n",
       "7                   Добавить форму подписки на все основные страницы, чтобы собрать базу клиентов для email-рассылок   \n",
       "6               Показать на главной странице баннеры с актуальными акциями и распродажами, чтобы увеличить конверсию   \n",
       "2       Добавить блоки рекомендаций товаров на сайт интернет магазина, чтобы повысить конверсию и средний чек заказа   \n",
       "\n",
       "              ICE  \n",
       "number             \n",
       "8       16.200000  \n",
       "0       13.333333  \n",
       "7       11.200000  \n",
       "6        8.000000  \n",
       "2        7.000000  "
      ]
     },
     "execution_count": 13,
     "metadata": {},
     "output_type": "execute_result"
    }
   ],
   "source": [
    "hypothesis['ICE'] = (hypothesis['impact'] * hypothesis['confidence']) / hypothesis['efforts']\n",
    "hypothesis[['hypothesis', 'ICE']].sort_values(by='ICE', ascending=False).head()"
   ]
  },
  {
   "cell_type": "markdown",
   "metadata": {},
   "source": [
    "### Фреймворк RICE для приоритизации гипотез, сортировка гипотез по убыванию приоритета"
   ]
  },
  {
   "cell_type": "code",
   "execution_count": 14,
   "metadata": {},
   "outputs": [
    {
     "data": {
      "text/html": [
       "<div>\n",
       "<style scoped>\n",
       "    .dataframe tbody tr th:only-of-type {\n",
       "        vertical-align: middle;\n",
       "    }\n",
       "\n",
       "    .dataframe tbody tr th {\n",
       "        vertical-align: top;\n",
       "    }\n",
       "\n",
       "    .dataframe thead th {\n",
       "        text-align: right;\n",
       "    }\n",
       "</style>\n",
       "<table border=\"1\" class=\"dataframe\">\n",
       "  <thead>\n",
       "    <tr style=\"text-align: right;\">\n",
       "      <th></th>\n",
       "      <th>hypothesis</th>\n",
       "      <th>RICE</th>\n",
       "    </tr>\n",
       "    <tr>\n",
       "      <th>number</th>\n",
       "      <th></th>\n",
       "      <th></th>\n",
       "    </tr>\n",
       "  </thead>\n",
       "  <tbody>\n",
       "    <tr>\n",
       "      <th>7</th>\n",
       "      <td>Добавить форму подписки на все основные страницы, чтобы собрать базу клиентов для email-рассылок</td>\n",
       "      <td>112.0</td>\n",
       "    </tr>\n",
       "    <tr>\n",
       "      <th>2</th>\n",
       "      <td>Добавить блоки рекомендаций товаров на сайт интернет магазина, чтобы повысить конверсию и средний чек заказа</td>\n",
       "      <td>56.0</td>\n",
       "    </tr>\n",
       "    <tr>\n",
       "      <th>0</th>\n",
       "      <td>Добавить два новых канала привлечения трафика, что позволит привлекать на 30% больше пользователей</td>\n",
       "      <td>40.0</td>\n",
       "    </tr>\n",
       "    <tr>\n",
       "      <th>6</th>\n",
       "      <td>Показать на главной странице баннеры с актуальными акциями и распродажами, чтобы увеличить конверсию</td>\n",
       "      <td>40.0</td>\n",
       "    </tr>\n",
       "    <tr>\n",
       "      <th>8</th>\n",
       "      <td>Запустить акцию, дающую скидку на товар в день рождения</td>\n",
       "      <td>16.2</td>\n",
       "    </tr>\n",
       "  </tbody>\n",
       "</table>\n",
       "</div>"
      ],
      "text/plain": [
       "                                                                                                          hypothesis  \\\n",
       "number                                                                                                                 \n",
       "7                   Добавить форму подписки на все основные страницы, чтобы собрать базу клиентов для email-рассылок   \n",
       "2       Добавить блоки рекомендаций товаров на сайт интернет магазина, чтобы повысить конверсию и средний чек заказа   \n",
       "0                 Добавить два новых канала привлечения трафика, что позволит привлекать на 30% больше пользователей   \n",
       "6               Показать на главной странице баннеры с актуальными акциями и распродажами, чтобы увеличить конверсию   \n",
       "8                                                            Запустить акцию, дающую скидку на товар в день рождения   \n",
       "\n",
       "         RICE  \n",
       "number         \n",
       "7       112.0  \n",
       "2        56.0  \n",
       "0        40.0  \n",
       "6        40.0  \n",
       "8        16.2  "
      ]
     },
     "execution_count": 14,
     "metadata": {},
     "output_type": "execute_result"
    }
   ],
   "source": [
    "hypothesis['RICE'] = (hypothesis['reach'] * hypothesis['impact'] * hypothesis['confidence']) / hypothesis['efforts']\n",
    "hypothesis[['hypothesis', 'RICE']].sort_values(by='RICE', ascending=False).head()"
   ]
  },
  {
   "cell_type": "markdown",
   "metadata": {},
   "source": [
    "### Как изменилась приоритизация гипотез при применении RICE вместо ICE? Почему так произошло?"
   ]
  },
  {
   "cell_type": "markdown",
   "metadata": {},
   "source": [
    "Топ-5 гипотез в ICE: 8, 0, 7, 6, 2. Топ-5 гипотез в RICE: 7, 2, 0, 6, 8. Фреймворк RICE включает в себя параметр Reach — скольких пользователей затронет изменение. Поэтому в RICE в приоритете те гипотезы, которые относятся к большему количеству пользователей."
   ]
  },
  {
   "cell_type": "markdown",
   "metadata": {},
   "source": [
    "## Часть 2. Анализ A/B-теста"
   ]
  },
  {
   "cell_type": "markdown",
   "metadata": {},
   "source": [
    "### 1. График кумулятивной выручки по группам. Выводы и предположения"
   ]
  },
  {
   "cell_type": "code",
   "execution_count": 15,
   "metadata": {},
   "outputs": [],
   "source": [
    "def show_cummulative_data(table_orders=orders, table_visitors=visitors, show_result=False):\n",
    "    \n",
    "    # создаем массив уникальных пар значений дат и групп теста\n",
    "    dates_groups = orders[['date','group']].drop_duplicates()\n",
    "\n",
    "    # получаем агрегированные кумулятивные по дням данные о заказах \n",
    "    orders_aggregated = (dates_groups\n",
    "     .apply(lambda x: table_orders[np.logical_and(table_orders['date'] <= x['date'],\n",
    "                                                  table_orders['group'] == x['group'])]\n",
    "         .agg({'date' : 'max', 'group' : 'max', 'transaction_id' : 'nunique', 'visitor_id' : 'nunique',\n",
    "         'revenue' : 'sum'}), axis=1)\n",
    "     .sort_values(by=['date','group'])\n",
    "    )\n",
    "    # получаем агрегированные кумулятивные по дням данные о посетителях интернет-магазина \n",
    "    visitors_aggregated = (dates_groups\n",
    "     .apply(lambda x: table_visitors[np.logical_and(table_visitors['date'] <= x['date'],\n",
    "                                                    table_visitors['group'] == x['group'])]\n",
    "            .agg({'date' : 'max', 'group' : 'max', 'visitors' : 'sum'}), axis=1).sort_values(by=['date','group'])\n",
    "    )\n",
    "    # объединяем кумулятивные данные в одной таблице и присваиваем ее столбцам понятные названия\n",
    "    result = orders_aggregated.merge(visitors_aggregated, on=['date', 'group'])\n",
    "    result.columns = ['date', 'group', 'orders', 'buyers', 'revenue', 'visitors']\n",
    "    if show_result == True:\n",
    "        display(result.head())\n",
    "    return result"
   ]
  },
  {
   "cell_type": "code",
   "execution_count": 16,
   "metadata": {},
   "outputs": [
    {
     "data": {
      "text/html": [
       "<div>\n",
       "<style scoped>\n",
       "    .dataframe tbody tr th:only-of-type {\n",
       "        vertical-align: middle;\n",
       "    }\n",
       "\n",
       "    .dataframe tbody tr th {\n",
       "        vertical-align: top;\n",
       "    }\n",
       "\n",
       "    .dataframe thead th {\n",
       "        text-align: right;\n",
       "    }\n",
       "</style>\n",
       "<table border=\"1\" class=\"dataframe\">\n",
       "  <thead>\n",
       "    <tr style=\"text-align: right;\">\n",
       "      <th></th>\n",
       "      <th>date</th>\n",
       "      <th>group</th>\n",
       "      <th>orders</th>\n",
       "      <th>buyers</th>\n",
       "      <th>revenue</th>\n",
       "      <th>visitors</th>\n",
       "    </tr>\n",
       "  </thead>\n",
       "  <tbody>\n",
       "    <tr>\n",
       "      <th>0</th>\n",
       "      <td>2019-08-01</td>\n",
       "      <td>A</td>\n",
       "      <td>24</td>\n",
       "      <td>20</td>\n",
       "      <td>148579</td>\n",
       "      <td>719</td>\n",
       "    </tr>\n",
       "    <tr>\n",
       "      <th>1</th>\n",
       "      <td>2019-08-01</td>\n",
       "      <td>B</td>\n",
       "      <td>21</td>\n",
       "      <td>20</td>\n",
       "      <td>101217</td>\n",
       "      <td>713</td>\n",
       "    </tr>\n",
       "    <tr>\n",
       "      <th>2</th>\n",
       "      <td>2019-08-02</td>\n",
       "      <td>A</td>\n",
       "      <td>44</td>\n",
       "      <td>38</td>\n",
       "      <td>242401</td>\n",
       "      <td>1338</td>\n",
       "    </tr>\n",
       "    <tr>\n",
       "      <th>3</th>\n",
       "      <td>2019-08-02</td>\n",
       "      <td>B</td>\n",
       "      <td>45</td>\n",
       "      <td>43</td>\n",
       "      <td>266748</td>\n",
       "      <td>1294</td>\n",
       "    </tr>\n",
       "    <tr>\n",
       "      <th>4</th>\n",
       "      <td>2019-08-03</td>\n",
       "      <td>A</td>\n",
       "      <td>68</td>\n",
       "      <td>62</td>\n",
       "      <td>354874</td>\n",
       "      <td>1845</td>\n",
       "    </tr>\n",
       "  </tbody>\n",
       "</table>\n",
       "</div>"
      ],
      "text/plain": [
       "        date group  orders  buyers  revenue  visitors\n",
       "0 2019-08-01     A      24      20   148579       719\n",
       "1 2019-08-01     B      21      20   101217       713\n",
       "2 2019-08-02     A      44      38   242401      1338\n",
       "3 2019-08-02     B      45      43   266748      1294\n",
       "4 2019-08-03     A      68      62   354874      1845"
      ]
     },
     "metadata": {},
     "output_type": "display_data"
    }
   ],
   "source": [
    "cummulative_data = show_cummulative_data(show_result=True)"
   ]
  },
  {
   "cell_type": "code",
   "execution_count": 17,
   "metadata": {},
   "outputs": [
    {
     "data": {
      "image/png": "[encoded data removed]",
      "text/plain": [
       "<Figure size 432x288 with 1 Axes>"
      ]
     },
     "metadata": {
      "needs_background": "light"
     },
     "output_type": "display_data"
    }
   ],
   "source": [
    "# датафрейм с кумулятивным количеством заказов и кумулятивной выручкой по дням в группе А\n",
    "cummulative_revenue_a = cummulative_data[cummulative_data['group']=='A'][['date', 'revenue', 'orders']]\n",
    "\n",
    "# датафрейм с кумулятивным количеством заказов и кумулятивной выручкой по дням в группе B\n",
    "cummulative_revenue_b = cummulative_data[cummulative_data['group']=='B'][['date', 'revenue', 'orders']]\n",
    "\n",
    "# Строим график выручки группы А\n",
    "plt.plot(cummulative_revenue_a['date'], cummulative_revenue_a['revenue'], label='A')\n",
    "\n",
    "# Строим график выручки группы B\n",
    "plt.plot(cummulative_revenue_b['date'], cummulative_revenue_b['revenue'], label='B')\n",
    "plt.legend()\n",
    "plt.show()"
   ]
  },
  {
   "cell_type": "markdown",
   "metadata": {},
   "source": [
    "Выручка увеличивается в течение всего теста. Однако график выручки группы B в одной точке резко растет. Это может сигнализировать о всплесках числа заказов, либо о появлении очень дорогих заказов в выборке. "
   ]
  },
  {
   "cell_type": "markdown",
   "metadata": {},
   "source": [
    "### 2. График кумулятивного среднего чека по группам. Выводы и предположения"
   ]
  },
  {
   "cell_type": "code",
   "execution_count": 18,
   "metadata": {},
   "outputs": [
    {
     "data": {
      "image/png": "[encoded data removed]",
      "text/plain": [
       "<Figure size 432x288 with 1 Axes>"
      ]
     },
     "metadata": {
      "needs_background": "light"
     },
     "output_type": "display_data"
    }
   ],
   "source": [
    "plt.plot(cummulative_revenue_a['date'], cummulative_revenue_a['revenue']/cummulative_revenue_a['orders'], label='A')\n",
    "plt.plot(cummulative_revenue_b['date'], cummulative_revenue_b['revenue']/cummulative_revenue_b['orders'], label='B')\n",
    "plt.legend()\n",
    "plt.show()"
   ]
  },
  {
   "cell_type": "markdown",
   "metadata": {},
   "source": [
    "Средний чек становится равномерным ближе к концу теста: установился для группы A и продолжает падать для группы B. Возможно, в группу B попали крупные заказы (резкий всплеск на графике). Тогда ей нужно больше данных, чтобы прийти к реальному среднему чеку и установиться на его уровне."
   ]
  },
  {
   "cell_type": "markdown",
   "metadata": {},
   "source": [
    "### 3. График относительного изменения кумулятивного среднего чека группы B к группе A. Выводы и предположения"
   ]
  },
  {
   "cell_type": "code",
   "execution_count": 19,
   "metadata": {},
   "outputs": [],
   "source": [
    "def show_cummulative_revenue(table):\n",
    "    \n",
    "    # датафрейм с кумулятивным количеством заказов и кумулятивной выручкой по дням в группе А\n",
    "    cummulative_revenue_a = table[table['group']=='A'][['date', 'revenue', 'orders']]\n",
    "\n",
    "    # датафрейм с кумулятивным количеством заказов и кумулятивной выручкой по дням в группе B\n",
    "    cummulative_revenue_b = table[table['group']=='B'][['date', 'revenue', 'orders']]\n",
    "    \n",
    "    # собираем данные в одном датафрейме\n",
    "    result = cummulative_revenue_a.merge(cummulative_revenue_b, on='date', suffixes=['A', 'B'])\n",
    "    \n",
    "    # cтроим отношение средних чеков\n",
    "    (plt.plot(result['date'],\n",
    "              (result['revenueB']/result['ordersB'])/\n",
    "              (result['revenueA']/result['ordersA'])-1)\n",
    "    )\n",
    "    # добавляем ось X\n",
    "    plt.axhline(y=0, color='black', linestyle='--')\n",
    "    plt.show()"
   ]
  },
  {
   "cell_type": "code",
   "execution_count": 20,
   "metadata": {},
   "outputs": [
    {
     "name": "stdout",
     "output_type": "stream",
     "text": [
      "График относительного изменения кумулятивного среднего чека группы B к группе A\n"
     ]
    },
    {
     "data": {
      "image/png": "[encoded data removed]",
      "text/plain": [
       "<Figure size 432x288 with 1 Axes>"
      ]
     },
     "metadata": {
      "needs_background": "light"
     },
     "output_type": "display_data"
    }
   ],
   "source": [
    "print('График относительного изменения кумулятивного среднего чека группы B к группе A')\n",
    "show_cummulative_revenue(show_cummulative_data())"
   ]
  },
  {
   "cell_type": "markdown",
   "metadata": {},
   "source": [
    "В нескольких точках график различия между сегментами резко «скачет». Где-то уж точно спрятались крупные заказы и выбросы!"
   ]
  },
  {
   "cell_type": "markdown",
   "metadata": {},
   "source": [
    "### 4. График кумулятивной конверсии по группам. Выводы и предположения"
   ]
  },
  {
   "cell_type": "code",
   "execution_count": 21,
   "metadata": {},
   "outputs": [
    {
     "data": {
      "image/png": "[encoded data removed]",
      "text/plain": [
       "<Figure size 432x288 with 1 Axes>"
      ]
     },
     "metadata": {
      "needs_background": "light"
     },
     "output_type": "display_data"
    }
   ],
   "source": [
    "# считаем кумулятивную конверсию\n",
    "cummulative_data['conversion'] = cummulative_data['orders']/cummulative_data['visitors']\n",
    "\n",
    "# отделяем данные по группе A\n",
    "cummulative_data_a = cummulative_data[cummulative_data['group']=='A']\n",
    "\n",
    "# отделяем данные по группе B\n",
    "cummulative_data_b = cummulative_data[cummulative_data['group']=='B']\n",
    "\n",
    "# строим графики\n",
    "fig, ax = plt.subplots()\n",
    "plt.plot(cummulative_data_a['date'], cummulative_data_a['conversion'], label='A')\n",
    "plt.plot(cummulative_data_b['date'], cummulative_data_b['conversion'], label='B')\n",
    "plt.legend()\n",
    "\n",
    "# задаем масштаб осей\n",
    "#plt.axis(['2019-08-01', '2019-08-31', 0.01, 0.05])\n",
    "ax.set(ylim=(0.01, 0.05))\n",
    "plt.show()"
   ]
  },
  {
   "cell_type": "markdown",
   "metadata": {},
   "source": [
    "Симметричный график получился! Группы колебались около одного значения, но затем конверсия группы B вырвалась вперёд и зафиксировалась, а конверсия группы A просела и также зафиксировалась."
   ]
  },
  {
   "cell_type": "markdown",
   "metadata": {},
   "source": [
    "### 5. График относительного изменения кумулятивной конверсии группы B к группе A. Выводы и предположения"
   ]
  },
  {
   "cell_type": "code",
   "execution_count": 22,
   "metadata": {},
   "outputs": [],
   "source": [
    "def show_merged_cummulative_conversions(table):\n",
    "    table['conversion'] = table['orders'] / table['visitors']\n",
    "\n",
    "    # отделяем данные по группе A\n",
    "    table_a = table[table['group']=='A']\n",
    "\n",
    "    # отделяем данные по группе B\n",
    "    table_b = table[table['group']=='B']\n",
    "    \n",
    "    result = (table_a[['date','conversion']]\n",
    "     .merge(table_b[['date','conversion']], on='date', suffixes=['A', 'B'])\n",
    "    )\n",
    "    fig, ax = plt.subplots()\n",
    "    (plt.plot(result['date'], result['conversionB']/result['conversionA']-1,\n",
    "              label=\"Относительный прирост конверсии группы B относительно группы A\")\n",
    "    )\n",
    "    plt.axhline(y=0, color='black', linestyle='--')\n",
    "    plt.axhline(y=0.1, color='grey', linestyle='--')\n",
    "    #plt.axis([\"2019-08-01\", '2019-08-31', -0.3, 0.3])\n",
    "    ax.set(ylim=(-0.3, 0.3))\n",
    "    plt.show()"
   ]
  },
  {
   "cell_type": "code",
   "execution_count": 23,
   "metadata": {},
   "outputs": [
    {
     "name": "stdout",
     "output_type": "stream",
     "text": [
      "График относительного изменения кумулятивной конверсии группы B к группе A\n"
     ]
    },
    {
     "data": {
      "image/png": "[encoded data removed]",
      "text/plain": [
       "<Figure size 432x288 with 1 Axes>"
      ]
     },
     "metadata": {
      "needs_background": "light"
     },
     "output_type": "display_data"
    }
   ],
   "source": [
    "print('График относительного изменения кумулятивной конверсии группы B к группе A')\n",
    "show_merged_cummulative_conversions(show_cummulative_data())"
   ]
  },
  {
   "cell_type": "markdown",
   "metadata": {},
   "source": [
    "В начале теста группа B проигрывала группе A, затем вырвалась вперёд. Потом её конверсия немного падала, но теперь стабильнее. В целом отношение конверсии установилось, и можно сделать вывод по тесту: конверсия группы B больше конверсии группы A."
   ]
  },
  {
   "cell_type": "markdown",
   "metadata": {},
   "source": [
    "### 6. Точечный график количества заказов по пользователям. Выводы и предположения"
   ]
  },
  {
   "cell_type": "code",
   "execution_count": 24,
   "metadata": {},
   "outputs": [
    {
     "data": {
      "image/png": "[encoded data removed]",
      "text/plain": [
       "<Figure size 432x288 with 1 Axes>"
      ]
     },
     "metadata": {
      "needs_background": "light"
     },
     "output_type": "display_data"
    }
   ],
   "source": [
    "orders_by_users = (orders[['transaction_id', 'visitor_id']]\n",
    "                   .groupby('visitor_id', as_index=False)\n",
    "                   .agg({'transaction_id' : 'nunique'})\n",
    "                  )\n",
    "orders_by_users.rename(columns={'transaction_id': 'orders'}, inplace=True)\n",
    "orders_by_users.sort_values(by='orders', ascending=False)\n",
    "x_values = pd.Series(range(0,len(orders_by_users)))\n",
    "plt.scatter(x_values, orders_by_users['orders'])\n",
    "plt.show()"
   ]
  },
  {
   "cell_type": "markdown",
   "metadata": {},
   "source": [
    "Выводы подтверждаются: много пользователей с 2-3 заказами. Их точная доля не ясна — непонятно, считать их аномалиями или нет. "
   ]
  },
  {
   "cell_type": "markdown",
   "metadata": {},
   "source": [
    "### 7. 95-й и 99-й перцентили количества заказов на пользователя. Граница для определения аномальных пользователей"
   ]
  },
  {
   "cell_type": "code",
   "execution_count": 25,
   "metadata": {},
   "outputs": [
    {
     "data": {
      "text/plain": [
       "array([2., 4.])"
      ]
     },
     "execution_count": 25,
     "metadata": {},
     "output_type": "execute_result"
    }
   ],
   "source": [
    "np.percentile(orders_by_users['orders'], [95, 99])"
   ]
  },
  {
   "cell_type": "markdown",
   "metadata": {},
   "source": [
    "Не более 5% пользователей оформляли больше чем 2 заказа. Разумно выбрать 2 заказа на одного пользователя за верхнюю границу числа заказов, и отсеять аномальных пользователей по ней."
   ]
  },
  {
   "cell_type": "markdown",
   "metadata": {},
   "source": [
    "### 8. Точечный график стоимостей заказов. Выводы и предположения"
   ]
  },
  {
   "cell_type": "code",
   "execution_count": 26,
   "metadata": {},
   "outputs": [
    {
     "data": {
      "image/png": "[encoded data removed]",
      "text/plain": [
       "<Figure size 432x288 with 1 Axes>"
      ]
     },
     "metadata": {
      "needs_background": "light"
     },
     "output_type": "display_data"
    }
   ],
   "source": [
    "x_values = pd.Series(range(0,len(orders['revenue'])))\n",
    "plt.scatter(x_values, orders['revenue'])\n",
    "plt.show()"
   ]
  },
  {
   "cell_type": "markdown",
   "metadata": {},
   "source": [
    "Есть один дорогой заказ в районе 200 000 и один сверхдорогой более 1 200 000. Вероятно, из-за них наблюдаются скачки в предыдущих графиках."
   ]
  },
  {
   "cell_type": "markdown",
   "metadata": {},
   "source": [
    "### 9. 95-й и 99-й перцентили стоимости заказов. Граница для определения аномальных заказов."
   ]
  },
  {
   "cell_type": "code",
   "execution_count": 27,
   "metadata": {},
   "outputs": [
    {
     "data": {
      "text/plain": [
       "array([28000. , 58233.2])"
      ]
     },
     "execution_count": 27,
     "metadata": {},
     "output_type": "execute_result"
    }
   ],
   "source": [
    "np.percentile(orders['revenue'], [95, 99])"
   ]
  },
  {
   "cell_type": "markdown",
   "metadata": {},
   "source": [
    "Не более 5% заказов дороже 28 000, и не более 1% дороже 58 233. Логично выбрать границу в 28 000, а всё, что выше - отсеивать."
   ]
  },
  {
   "cell_type": "markdown",
   "metadata": {},
   "source": [
    "### 10. Статистическая значимость различий в конверсии между группами по «сырым» данным. Выводы и предположения"
   ]
  },
  {
   "cell_type": "code",
   "execution_count": 28,
   "metadata": {
    "scrolled": true
   },
   "outputs": [
    {
     "data": {
      "text/html": [
       "<div>\n",
       "<style scoped>\n",
       "    .dataframe tbody tr th:only-of-type {\n",
       "        vertical-align: middle;\n",
       "    }\n",
       "\n",
       "    .dataframe tbody tr th {\n",
       "        vertical-align: top;\n",
       "    }\n",
       "\n",
       "    .dataframe thead th {\n",
       "        text-align: right;\n",
       "    }\n",
       "</style>\n",
       "<table border=\"1\" class=\"dataframe\">\n",
       "  <thead>\n",
       "    <tr style=\"text-align: right;\">\n",
       "      <th></th>\n",
       "      <th>date</th>\n",
       "      <th>orders_per_date_a</th>\n",
       "      <th>revenue_per_date_a</th>\n",
       "      <th>orders_per_date_b</th>\n",
       "      <th>revenue_per_date_b</th>\n",
       "      <th>orders_cummulative_a</th>\n",
       "      <th>revenue_cummulative_a</th>\n",
       "      <th>orders_cummulative_b</th>\n",
       "      <th>revenue_cummulative_b</th>\n",
       "      <th>visitors_per_date_a</th>\n",
       "      <th>visitors_per_date_b</th>\n",
       "      <th>visitors_cummulative_a</th>\n",
       "      <th>visitors_cummulative_b</th>\n",
       "    </tr>\n",
       "  </thead>\n",
       "  <tbody>\n",
       "    <tr>\n",
       "      <th>0</th>\n",
       "      <td>2019-08-01</td>\n",
       "      <td>24</td>\n",
       "      <td>148579</td>\n",
       "      <td>21</td>\n",
       "      <td>101217</td>\n",
       "      <td>24</td>\n",
       "      <td>148579</td>\n",
       "      <td>21</td>\n",
       "      <td>101217</td>\n",
       "      <td>719</td>\n",
       "      <td>713</td>\n",
       "      <td>719</td>\n",
       "      <td>713</td>\n",
       "    </tr>\n",
       "    <tr>\n",
       "      <th>1</th>\n",
       "      <td>2019-08-02</td>\n",
       "      <td>20</td>\n",
       "      <td>93822</td>\n",
       "      <td>24</td>\n",
       "      <td>165531</td>\n",
       "      <td>44</td>\n",
       "      <td>242401</td>\n",
       "      <td>45</td>\n",
       "      <td>266748</td>\n",
       "      <td>619</td>\n",
       "      <td>581</td>\n",
       "      <td>1338</td>\n",
       "      <td>1294</td>\n",
       "    </tr>\n",
       "    <tr>\n",
       "      <th>2</th>\n",
       "      <td>2019-08-03</td>\n",
       "      <td>24</td>\n",
       "      <td>112473</td>\n",
       "      <td>16</td>\n",
       "      <td>114248</td>\n",
       "      <td>68</td>\n",
       "      <td>354874</td>\n",
       "      <td>61</td>\n",
       "      <td>380996</td>\n",
       "      <td>507</td>\n",
       "      <td>509</td>\n",
       "      <td>1845</td>\n",
       "      <td>1803</td>\n",
       "    </tr>\n",
       "    <tr>\n",
       "      <th>3</th>\n",
       "      <td>2019-08-04</td>\n",
       "      <td>16</td>\n",
       "      <td>70825</td>\n",
       "      <td>17</td>\n",
       "      <td>108571</td>\n",
       "      <td>84</td>\n",
       "      <td>425699</td>\n",
       "      <td>78</td>\n",
       "      <td>489567</td>\n",
       "      <td>717</td>\n",
       "      <td>770</td>\n",
       "      <td>2562</td>\n",
       "      <td>2573</td>\n",
       "    </tr>\n",
       "    <tr>\n",
       "      <th>4</th>\n",
       "      <td>2019-08-05</td>\n",
       "      <td>25</td>\n",
       "      <td>124218</td>\n",
       "      <td>23</td>\n",
       "      <td>92428</td>\n",
       "      <td>109</td>\n",
       "      <td>549917</td>\n",
       "      <td>101</td>\n",
       "      <td>581995</td>\n",
       "      <td>756</td>\n",
       "      <td>707</td>\n",
       "      <td>3318</td>\n",
       "      <td>3280</td>\n",
       "    </tr>\n",
       "  </tbody>\n",
       "</table>\n",
       "</div>"
      ],
      "text/plain": [
       "        date  orders_per_date_a  revenue_per_date_a  orders_per_date_b  \\\n",
       "0 2019-08-01                 24              148579                 21   \n",
       "1 2019-08-02                 20               93822                 24   \n",
       "2 2019-08-03                 24              112473                 16   \n",
       "3 2019-08-04                 16               70825                 17   \n",
       "4 2019-08-05                 25              124218                 23   \n",
       "\n",
       "   revenue_per_date_b  orders_cummulative_a  revenue_cummulative_a  \\\n",
       "0              101217                    24                 148579   \n",
       "1              165531                    44                 242401   \n",
       "2              114248                    68                 354874   \n",
       "3              108571                    84                 425699   \n",
       "4               92428                   109                 549917   \n",
       "\n",
       "   orders_cummulative_b  revenue_cummulative_b  visitors_per_date_a  \\\n",
       "0                    21                 101217                  719   \n",
       "1                    45                 266748                  619   \n",
       "2                    61                 380996                  507   \n",
       "3                    78                 489567                  717   \n",
       "4                   101                 581995                  756   \n",
       "\n",
       "   visitors_per_date_b  visitors_cummulative_a  visitors_cummulative_b  \n",
       "0                  713                     719                     713  \n",
       "1                  581                    1338                    1294  \n",
       "2                  509                    1845                    1803  \n",
       "3                  770                    2562                    2573  \n",
       "4                  707                    3318                    3280  "
      ]
     },
     "execution_count": 28,
     "metadata": {},
     "output_type": "execute_result"
    }
   ],
   "source": [
    "visitors_a_daily = visitors[visitors['group']=='A'][['date', 'visitors']]\n",
    "visitors_a_daily.columns = ['date', 'visitors_per_date_a']\n",
    "\n",
    "visitors_a_cummulative = (visitors_a_daily\n",
    " .apply(lambda x: visitors_a_daily[visitors_a_daily['date'] <= x['date']]\n",
    "       .agg({'date' : 'max', 'visitors_per_date_a' : 'sum'}), axis=1)\n",
    ")\n",
    "visitors_a_cummulative.columns = ['date', 'visitors_cummulative_a']\n",
    "\n",
    "visitors_b_daily = visitors[visitors['group']=='B'][['date', 'visitors']]\n",
    "visitors_b_daily.columns = ['date', 'visitors_per_date_b']\n",
    "\n",
    "visitors_b_cummulative = (visitors_b_daily\n",
    " .apply(lambda x: visitors_b_daily[visitors_b_daily['date'] <= x['date']]\n",
    "       .agg({'date' : 'max', 'visitors_per_date_b' : 'sum'}), axis=1)\n",
    ")\n",
    "visitors_b_cummulative.columns = ['date', 'visitors_cummulative_b']\n",
    "\n",
    "orders_a_daily = (orders[orders['group']=='A'][['date', 'transaction_id', 'visitor_id', 'revenue']]\n",
    " .groupby('date', as_index=False)\n",
    " .agg({'transaction_id' : 'nunique', 'revenue' : 'sum'})\n",
    ")\n",
    "orders_a_daily.columns = ['date', 'orders_per_date_a', 'revenue_per_date_a']\n",
    "\n",
    "orders_a_cummulative = (orders_a_daily\n",
    " .apply(lambda x: orders_a_daily[orders_a_daily['date'] <= x['date']]\n",
    "        .agg({'date' : 'max', 'orders_per_date_a' : 'sum', 'revenue_per_date_a' : 'sum'}), axis=1)\n",
    " .sort_values(by=['date'])\n",
    ")\n",
    "orders_a_cummulative.columns = ['date', 'orders_cummulative_a', 'revenue_cummulative_a']\n",
    "\n",
    "orders_b_daily = (orders[orders['group']=='B'][['date', 'transaction_id', 'visitor_id', 'revenue']]\n",
    " .groupby('date', as_index=False)\n",
    " .agg({'transaction_id' : 'nunique', 'revenue' : 'sum'})\n",
    ")\n",
    "orders_b_daily.columns = ['date', 'orders_per_date_b', 'revenue_per_date_b']\n",
    "\n",
    "orders_b_cummulative = (orders_b_daily\n",
    " .apply(lambda x: orders_b_daily[orders_b_daily['date'] <= x['date']]\n",
    "            .agg({'date' : 'max', 'orders_per_date_b' : 'sum', 'revenue_per_date_b' : 'sum'}), axis=1)\n",
    " .sort_values(by=['date'])\n",
    ")\n",
    "orders_b_cummulative.columns = ['date', 'orders_cummulative_b', 'revenue_cummulative_b']\n",
    "\n",
    "data = (orders_a_daily\n",
    " .merge(orders_b_daily, on='date', how='left')\n",
    " .merge(orders_a_cummulative, on='date', how='left')\n",
    " .merge(orders_b_cummulative, on='date', how='left')\n",
    " .merge(visitors_a_daily, on='date', how='left')\n",
    " .merge(visitors_b_daily, on='date', how='left')\n",
    " .merge(visitors_a_cummulative, on='date', how='left')\n",
    " .merge(visitors_b_cummulative, on='date', how='left')\n",
    ")\n",
    "data.head()"
   ]
  },
  {
   "cell_type": "code",
   "execution_count": 29,
   "metadata": {},
   "outputs": [],
   "source": [
    "orders_by_users_a = orders[orders['group']=='A'].groupby('visitor_id', as_index=False).agg({'transaction_id' : 'nunique'})\n",
    "orders_by_users_a.columns = ['user_id', 'orders']\n",
    "\n",
    "orders_by_users_b = orders[orders['group']=='B'].groupby('visitor_id', as_index=False).agg({'transaction_id' : 'nunique'})\n",
    "orders_by_users_b.columns = ['user_id', 'orders']\n",
    "\n",
    "sample_a = (pd.concat([orders_by_users_a['orders'], pd.Series(0, index=np.arange(data['visitors_per_date_a'].sum() -\n",
    "                                                    len(orders_by_users_a['orders'])), name='orders')],axis=0)\n",
    ")\n",
    "sample_b = (pd.concat([orders_by_users_b['orders'], pd.Series(0, index=np.arange(data['visitors_per_date_b'].sum() -\n",
    "                                                    len(orders_by_users_b['orders'])), name='orders')],axis=0)\n",
    ")"
   ]
  },
  {
   "cell_type": "code",
   "execution_count": 30,
   "metadata": {},
   "outputs": [],
   "source": [
    "# функция расчета теста Манна-Уитни\n",
    "def mannwhitneyu(data_1, data_2):\n",
    "    p_value = st.mannwhitneyu(data_1, data_2)[1]\n",
    "    print(f'p-value {p_value:.3f}')\n",
    "    if (p_value < 0.05):\n",
    "        print(\"Поддерживаем альтернативную гипотезу: разница статистически значима\")\n",
    "    else:\n",
    "        print(\"Поддерживаем нулевую гипотезу, разница статистически не значима\")\n",
    "    rate = data_2.mean() / data_1.mean() - 1\n",
    "    print(f'Относительный прирост группы B {rate:.3f}')"
   ]
  },
  {
   "cell_type": "code",
   "execution_count": 31,
   "metadata": {},
   "outputs": [
    {
     "name": "stdout",
     "output_type": "stream",
     "text": [
      "p-value 0.008\n",
      "Поддерживаем альтернативную гипотезу: разница статистически значима\n",
      "Относительный прирост группы B 0.138\n"
     ]
    }
   ],
   "source": [
    "mannwhitneyu(sample_a, sample_b)"
   ]
  },
  {
   "cell_type": "markdown",
   "metadata": {},
   "source": [
    "p-value менее 0.05. Значит, поддерживаем альтернативную гипотезу: разница в конверсии между группами по «сырым» данным статистически значима. Относительный прирост конверсии группы B 13.8%."
   ]
  },
  {
   "cell_type": "markdown",
   "metadata": {},
   "source": [
    "### 11. Статистическая значимость различий в среднем чеке заказа между группами по «сырым» данным. Выводы и предположения"
   ]
  },
  {
   "cell_type": "code",
   "execution_count": 32,
   "metadata": {},
   "outputs": [
    {
     "name": "stdout",
     "output_type": "stream",
     "text": [
      "p-value 0.365\n",
      "Поддерживаем нулевую гипотезу, разница статистически не значима\n",
      "Относительный прирост группы B 0.259\n"
     ]
    }
   ],
   "source": [
    "mannwhitneyu(orders[orders['group']=='A']['revenue'], orders[orders['group']=='B']['revenue'])"
   ]
  },
  {
   "cell_type": "markdown",
   "metadata": {},
   "source": [
    "p-value не менее 0.05. Значит, поддерживаем нулевую гипотезу: разница в среднем чеке заказа между группами по «сырым» данным статистически не значима. Средний чек группы B превышает чек в группе A на 25.9%. Это превышение обусловлено наличием дорогих заказов в группе B."
   ]
  },
  {
   "cell_type": "markdown",
   "metadata": {},
   "source": [
    "### 12. Статистическая значимость различий в конверсии между группами по «очищенным» данным. Выводы и предположения"
   ]
  },
  {
   "cell_type": "code",
   "execution_count": 33,
   "metadata": {},
   "outputs": [],
   "source": [
    "users_with_many_orders = (pd\n",
    " .concat([orders_by_users_a[orders_by_users_a['orders'] > 2]['user_id'],\n",
    "         orders_by_users_b[orders_by_users_b['orders'] > 2]['user_id']], axis = 0)\n",
    ")\n",
    "users_with_expensive_orders = orders[orders['revenue'] > 28000]['visitor_id']\n",
    "abnormal_users = (pd\n",
    " .concat([users_with_many_orders, users_with_expensive_orders], axis = 0).drop_duplicates().sort_values()\n",
    ")\n",
    "sample_a_filtered = (pd\n",
    " .concat([orders_by_users_a[np.logical_not(orders_by_users_a['user_id'].isin(abnormal_users))]['orders'],\n",
    "         pd.Series(0, index=np.arange(data['visitors_per_date_a'].sum() - \n",
    "                                      len(orders_by_users_a['orders'])),name='orders')],axis=0)\n",
    ")\n",
    "sample_b_filtered = (pd\n",
    " .concat([orders_by_users_b[np.logical_not(orders_by_users_b['user_id'].isin(abnormal_users))]['orders'],\n",
    "         pd.Series(0, index=np.arange(data['visitors_per_date_b'].sum() -\n",
    "                                      len(orders_by_users_b['orders'])),name='orders')],axis=0)\n",
    ")"
   ]
  },
  {
   "cell_type": "code",
   "execution_count": 34,
   "metadata": {},
   "outputs": [
    {
     "name": "stdout",
     "output_type": "stream",
     "text": [
      "p-value 0.007\n",
      "Поддерживаем альтернативную гипотезу: разница статистически значима\n",
      "Относительный прирост группы B 0.173\n"
     ]
    }
   ],
   "source": [
    "mannwhitneyu(sample_a_filtered, sample_b_filtered)"
   ]
  },
  {
   "cell_type": "markdown",
   "metadata": {},
   "source": [
    "p-value менее 0.05. Как и по \"сырым\" данным, поддерживаем альтернативную гипотезу: разница в конверсии между группами по \"очищенным\" данным статистически значима. Относительный прирост конверсии группы B по \"очищенным\" данным 17.3%, что больше прироста по \"сырым\" данным на четверть."
   ]
  },
  {
   "cell_type": "markdown",
   "metadata": {},
   "source": [
    "### 13. Статистическая значимость различий в среднем чеке заказа между группами по «очищенным» данным. Выводы и предположения"
   ]
  },
  {
   "cell_type": "code",
   "execution_count": 35,
   "metadata": {},
   "outputs": [],
   "source": [
    "sample_a_filtered = (orders\n",
    " [np.logical_and(orders['group']=='A', np.logical_not(orders['visitor_id'].isin(abnormal_users)))]['revenue']\n",
    ")\n",
    "sample_b_filtered = (orders\n",
    " [np.logical_and(orders['group']=='B', np.logical_not(orders['visitor_id'].isin(abnormal_users)))]['revenue']\n",
    ")"
   ]
  },
  {
   "cell_type": "code",
   "execution_count": 36,
   "metadata": {},
   "outputs": [
    {
     "name": "stdout",
     "output_type": "stream",
     "text": [
      "p-value 0.369\n",
      "Поддерживаем нулевую гипотезу, разница статистически не значима\n",
      "Относительный прирост группы B -0.020\n"
     ]
    }
   ],
   "source": [
    "mannwhitneyu(sample_a_filtered, sample_b_filtered)"
   ]
  },
  {
   "cell_type": "markdown",
   "metadata": {},
   "source": [
    "p-value не менее 0.05. Как и по \"сырым\" данным, поддерживаем нулевую гипотезу: разница в среднем чеке между группами по \"очищенным\" данным статистически не значима. Средний чек группы B по \"очищенным\" данным меньше среднего чека группы A на 2%, то есть средние чеки практически выравнились."
   ]
  },
  {
   "cell_type": "markdown",
   "metadata": {},
   "source": [
    "### 14. Решение по результатам теста. Варианты решений: 1. Остановить тест, зафиксировать победу одной из групп. 2. Остановить тест, зафиксировать отсутствие различий между группами. 3. Продолжить тест."
   ]
  },
  {
   "cell_type": "code",
   "execution_count": 37,
   "metadata": {
    "scrolled": true
   },
   "outputs": [],
   "source": [
    "filtered_visitors = (orders\n",
    " .query('visitor_id in @abnormal_users')\n",
    " .groupby(['date', 'group'], as_index=False)\n",
    " .agg({'visitor_id': 'nunique'})\n",
    " .rename(columns={'visitor_id': 'abnormal_visitors'})\n",
    " .merge(visitors, on=['date', 'group'], how='right')\n",
    " .fillna(0)\n",
    " .assign(filtered_visitors = lambda x: x.visitors - x.abnormal_visitors)\n",
    " .sort_values(['date', 'group'])\n",
    " .drop(columns=['abnormal_visitors', 'visitors'])\n",
    " .rename(columns={'filtered_visitors': 'visitors'})\n",
    ")\n",
    "filtered_visitors['visitors'] = filtered_visitors['visitors'].astype('int')"
   ]
  },
  {
   "cell_type": "markdown",
   "metadata": {},
   "source": [
    "#### 14. Конверсия"
   ]
  },
  {
   "cell_type": "code",
   "execution_count": 38,
   "metadata": {
    "scrolled": true
   },
   "outputs": [
    {
     "name": "stdout",
     "output_type": "stream",
     "text": [
      "График относительного изменения кумулятивной конверсии группы B к группе A по сырым данным\n"
     ]
    },
    {
     "data": {
      "image/png": "[encoded data removed]",
      "text/plain": [
       "<Figure size 432x288 with 1 Axes>"
      ]
     },
     "metadata": {
      "needs_background": "light"
     },
     "output_type": "display_data"
    }
   ],
   "source": [
    "print('График относительного изменения кумулятивной конверсии группы B к группе A по сырым данным')\n",
    "show_merged_cummulative_conversions(show_cummulative_data())"
   ]
  },
  {
   "cell_type": "code",
   "execution_count": 39,
   "metadata": {},
   "outputs": [
    {
     "name": "stdout",
     "output_type": "stream",
     "text": [
      "График относительного изменения кумулятивной конверсии группы B к группе A по очищенным данным\n"
     ]
    },
    {
     "data": {
      "image/png": "[encoded data removed]",
      "text/plain": [
       "<Figure size 432x288 with 1 Axes>"
      ]
     },
     "metadata": {
      "needs_background": "light"
     },
     "output_type": "display_data"
    }
   ],
   "source": [
    "print('График относительного изменения кумулятивной конверсии группы B к группе A по очищенным данным')\n",
    "(show_merged_cummulative_conversions(show_cummulative_data(table_visitors=filtered_visitors,\n",
    "        table_orders=orders.query('visitor_id not in @abnormal_users')))\n",
    ")"
   ]
  },
  {
   "cell_type": "markdown",
   "metadata": {},
   "source": [
    "Есть статистически значимое различие по конверсии между группами и по «сырым», и по \"очищенным\" данным.\n",
    "\n",
    "В целом отношение конверсии установилось.\n",
    "\n",
    "Можно сделать вывод по конверсии: конверсия группы B больше конверсии группы A на 17.3% по очищенным данным."
   ]
  },
  {
   "cell_type": "markdown",
   "metadata": {},
   "source": [
    "#### 14. Средний чек"
   ]
  },
  {
   "cell_type": "code",
   "execution_count": 40,
   "metadata": {},
   "outputs": [
    {
     "name": "stdout",
     "output_type": "stream",
     "text": [
      "График относительного изменения кумулятивного среднего чека группы B к группе A по сырым данным\n"
     ]
    },
    {
     "data": {
      "image/png": "[encoded data removed]",
      "text/plain": [
       "<Figure size 432x288 with 1 Axes>"
      ]
     },
     "metadata": {
      "needs_background": "light"
     },
     "output_type": "display_data"
    }
   ],
   "source": [
    "print('График относительного изменения кумулятивного среднего чека группы B к группе A по сырым данным')\n",
    "show_cummulative_revenue(show_cummulative_data())"
   ]
  },
  {
   "cell_type": "code",
   "execution_count": 41,
   "metadata": {},
   "outputs": [
    {
     "name": "stdout",
     "output_type": "stream",
     "text": [
      "График относительного изменения кумулятивного среднего чека группы B к группе A по очищенным данным\n"
     ]
    },
    {
     "data": {
      "image/png": "[encoded data removed]",
      "text/plain": [
       "<Figure size 432x288 with 1 Axes>"
      ]
     },
     "metadata": {
      "needs_background": "light"
     },
     "output_type": "display_data"
    }
   ],
   "source": [
    "print('График относительного изменения кумулятивного среднего чека группы B к группе A по очищенным данным')\n",
    "(show_cummulative_revenue((show_cummulative_data(table_visitors=filtered_visitors,\n",
    "        table_orders=orders.query('visitor_id not in @abnormal_users')))))"
   ]
  },
  {
   "cell_type": "markdown",
   "metadata": {},
   "source": [
    "Нет статистически значимого различия по среднему чеку между группами ни по «сырым», ни по \"очищенным\" данным;\n",
    "\n",
    "График различия среднего чека между группами по очищенным данным говорит о том, что результаты стабилизировались около нуля плюс/минус 3%, на последнюю известную дату средний чек группы B на 2% меньше среднего чека группы A.\n",
    "\n",
    "Можно сделать вывод по среднему чеку: средний чек практически не различается в группах."
   ]
  },
  {
   "cell_type": "markdown",
   "metadata": {},
   "source": [
    "#### 14. Вывод"
   ]
  },
  {
   "cell_type": "markdown",
   "metadata": {},
   "source": [
    "Пора остановить тест и признать победу группы B по конверсии, зафиксировать отсутствие статистических различий по среднему чеку."
   ]
  },
  {
   "cell_type": "markdown",
   "metadata": {},
   "source": [
    "## Общий вывод"
   ]
  },
  {
   "cell_type": "markdown",
   "metadata": {},
   "source": [
    "### Часть  0. Загрузка данных и подготовка их к анализу. Вывод"
   ]
  },
  {
   "cell_type": "markdown",
   "metadata": {},
   "source": [
    "Представленные таблицы не содержат дубли и пропуски. В таблице hypothesis названия колонок преобразованы к нижнему регистру. Во таблицах visitors и orders типы колонок с датами преобразованы к datetime. В таблице orders названия двух колонок изменены для лучшей читабельности."
   ]
  },
  {
   "cell_type": "markdown",
   "metadata": {},
   "source": [
    "### Часть  1. Приоритизация гипотез. Вывод"
   ]
  },
  {
   "cell_type": "markdown",
   "metadata": {},
   "source": [
    "Топ-5 гипотез в ICE: 8, 0, 7, 6, 2. Топ-5 гипотез в RICE: 7, 2, 0, 6, 8. Фреймворк RICE включает в себя параметр Reach — скольких пользователей затронет изменение. Поэтому в RICE в приоритете те гипотезы, которые относятся к большему количеству пользователей."
   ]
  },
  {
   "cell_type": "markdown",
   "metadata": {},
   "source": [
    "### Часть  2. Анализ A/B-теста. Вывод"
   ]
  },
  {
   "cell_type": "markdown",
   "metadata": {},
   "source": [
    "#### 1. График кумулятивной выручки по группам. Вывод"
   ]
  },
  {
   "cell_type": "markdown",
   "metadata": {},
   "source": [
    "Выручка увеличивается в течение всего теста. Однако график выручки группы B в одной точке резко растет. Это может сигнализировать о всплесках числа заказов, либо о появлении очень дорогих заказов в выборке. "
   ]
  },
  {
   "cell_type": "markdown",
   "metadata": {},
   "source": [
    "#### 2. График кумулятивного среднего чека по группам. Вывод"
   ]
  },
  {
   "cell_type": "markdown",
   "metadata": {},
   "source": [
    "Средний чек становится равномерным ближе к концу теста: установился для группы A и продолжает падать для группы B. Возможно, в группу B попали крупные заказы (резкий всплеск на графике). Тогда ей нужно больше данных, чтобы прийти к реальному среднему чеку и установиться на его уровне."
   ]
  },
  {
   "cell_type": "markdown",
   "metadata": {},
   "source": [
    "#### 3. График относительного изменения кумулятивного среднего чека группы B к группе A. Вывод"
   ]
  },
  {
   "cell_type": "markdown",
   "metadata": {},
   "source": [
    "В нескольких точках график различия между сегментами резко «скачет». Где-то уж точно спрятались крупные заказы и выбросы!"
   ]
  },
  {
   "cell_type": "markdown",
   "metadata": {},
   "source": [
    "#### 4. График кумулятивной конверсии по группам. Вывод"
   ]
  },
  {
   "cell_type": "markdown",
   "metadata": {},
   "source": [
    "Симметричный график получился! Группы колебались около одного значения, но затем конверсия группы B вырвалась вперёд и зафиксировалась, а конверсия группы A просела и также зафиксировалась."
   ]
  },
  {
   "cell_type": "markdown",
   "metadata": {},
   "source": [
    "#### 5. График относительного изменения кумулятивной конверсии группы B к группе A. Вывод"
   ]
  },
  {
   "cell_type": "markdown",
   "metadata": {},
   "source": [
    "В начале теста группа B проигрывала группе A, затем вырвалась вперёд. Потом её конверсия немного падала, но теперь стабильнее. В целом отношение конверсии установилось, и можно сделать вывод по тесту: конверсия группы B больше конверсии группы A. "
   ]
  },
  {
   "cell_type": "markdown",
   "metadata": {},
   "source": [
    "#### 6. Точечный график количества заказов по пользователям. Вывод"
   ]
  },
  {
   "cell_type": "markdown",
   "metadata": {},
   "source": [
    "Выводы подтверждаются: много пользователей с 2-3 заказами. Их точная доля не ясна — непонятно, считать их аномалиями или нет. "
   ]
  },
  {
   "cell_type": "markdown",
   "metadata": {},
   "source": [
    "#### 7. 95-й и 99-й перцентили количества заказов на пользователя. Граница для определения аномальных пользователей. Вывод"
   ]
  },
  {
   "cell_type": "markdown",
   "metadata": {},
   "source": [
    "Не более 5% пользователей оформляли больше чем 2 заказа. Разумно выбрать 2 заказа на одного пользователя за верхнюю границу числа заказов, и отсеять аномальных пользователей по ней."
   ]
  },
  {
   "cell_type": "markdown",
   "metadata": {},
   "source": [
    "#### 8. Точечный график стоимостей заказов. Вывод"
   ]
  },
  {
   "cell_type": "markdown",
   "metadata": {},
   "source": [
    "Есть один дорогой заказ в районе 200 000 и один сверхдорогой более 1 200 000. Вероятно, из-за них наблюдаются скачки в предыдущих графиках."
   ]
  },
  {
   "cell_type": "markdown",
   "metadata": {},
   "source": [
    "#### 9. 95-й и 99-й перцентили стоимости заказов. Граница для определения аномальных заказов. Вывод"
   ]
  },
  {
   "cell_type": "markdown",
   "metadata": {},
   "source": [
    "Не более 5% заказов дороже 28 000, и не более 1% дороже 58 233. Логично выбрать границу в 28 000, а всё, что выше - отсеивать."
   ]
  },
  {
   "cell_type": "markdown",
   "metadata": {},
   "source": [
    "#### 10. Статистическая значимость различий в конверсии между группами по «сырым» данным. Вывод"
   ]
  },
  {
   "cell_type": "markdown",
   "metadata": {},
   "source": [
    "p-value менее 0.05. Значит, поддерживаем альтернативную гипотезу: разница в конверсии между группами по «сырым» данным статистически значима. Относительный прирост конверсии группы B 13.8%."
   ]
  },
  {
   "cell_type": "markdown",
   "metadata": {},
   "source": [
    "#### 11. Статистическая значимость различий в среднем чеке заказа между группами по «сырым» данным. Вывод"
   ]
  },
  {
   "cell_type": "markdown",
   "metadata": {},
   "source": [
    "p-value не менее 0.05. Значит, поддерживаем нулевую гипотезу: разница в среднем чеке заказа между группами по «сырым» данным статистически не значима. Средний чек группы B превышает чек в группе A на 25.9%. Это превышение обусловлено наличием дорогих заказов в группе B."
   ]
  },
  {
   "cell_type": "markdown",
   "metadata": {},
   "source": [
    "#### 12. Статистическая значимость различий в конверсии между группами по «очищенным» данным. Вывод"
   ]
  },
  {
   "cell_type": "markdown",
   "metadata": {},
   "source": [
    "p-value менее 0.05. Как и по \"сырым\" данным, поддерживаем альтернативную гипотезу: разница в конверсии между группами по \"очищенным\" данным статистически значима. Относительный прирост конверсии группы B по \"очищенным\" данным 17.3%, что больше прироста по \"сырым\" данным на четверть."
   ]
  },
  {
   "cell_type": "markdown",
   "metadata": {},
   "source": [
    "#### 13. Статистическая значимость различий в среднем чеке заказа между группами по «очищенным» данным. Вывод"
   ]
  },
  {
   "cell_type": "markdown",
   "metadata": {},
   "source": [
    "p-value не менее 0.05. Как и по \"сырым\" данным, поддерживаем нулевую гипотезу: разница в среднем чеке между группами по \"очищенным\" данным статистически не значима. Средний чек группы B по \"очищенным\" данным меньше среднего чека группы A на 2%, то есть средние чеки практически выравнились."
   ]
  },
  {
   "cell_type": "markdown",
   "metadata": {},
   "source": [
    "#### 14. Решение по результатам теста. Вывод"
   ]
  },
  {
   "cell_type": "markdown",
   "metadata": {},
   "source": [
    "Есть статистически значимое различие по конверсии между группами и по «сырым», и по \"очищенным\" данным.\n",
    "\n",
    "В целом отношение конверсии установилось.\n",
    "\n",
    "Можно сделать вывод по конверсии: конверсия группы B больше конверсии группы A на 17.3% по очищенным данным."
   ]
  },
  {
   "cell_type": "markdown",
   "metadata": {},
   "source": [
    "Нет статистически значимого различия по среднему чеку между группами ни по «сырым», ни по \"очищенным\" данным;\n",
    "\n",
    "График различия среднего чека между группами по очищенным данным говорит о том, что результаты стабилизировались около нуля плюс/минус 3%, на последнюю известную дату средний чек группы B на 2% меньше среднего чека группы A.\n",
    "\n",
    "Можно сделать вывод по среднему чеку: средний чек практически не различается в группах."
   ]
  },
  {
   "cell_type": "markdown",
   "metadata": {},
   "source": [
    "Пора остановить тест и признать победу группы B по конверсии, зафиксировать отсутствие статистических различий по среднему чеку."
   ]
  },
  {
   "cell_type": "code",
   "execution_count": null,
   "metadata": {},
   "outputs": [],
   "source": []
  }
 ],
 "metadata": {
  "kernelspec": {
   "display_name": "Python 3",
   "language": "python",
   "name": "python3"
  },
  "language_info": {
   "codemirror_mode": {
    "name": "ipython",
    "version": 3
   },
   "file_extension": ".py",
   "mimetype": "text/x-python",
   "name": "python",
   "nbconvert_exporter": "python",
   "pygments_lexer": "ipython3",
   "version": "3.7.1"
  },
  "varInspector": {
   "cols": {
    "lenName": 16,
    "lenType": 16,
    "lenVar": 40
   },
   "kernels_config": {
    "python": {
     "delete_cmd_postfix": "",
     "delete_cmd_prefix": "del ",
     "library": "var_list.py",
     "varRefreshCmd": "print(var_dic_list())"
    },
    "r": {
     "delete_cmd_postfix": ") ",
     "delete_cmd_prefix": "rm(",
     "library": "var_list.r",
     "varRefreshCmd": "cat(var_dic_list()) "
    }
   },
   "types_to_exclude": [
    "module",
    "function",
    "builtin_function_or_method",
    "instance",
    "_Feature"
   ],
   "window_display": false
  }
 },
 "nbformat": 4,
 "nbformat_minor": 2
}
